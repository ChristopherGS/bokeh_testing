{
 "cells": [
  {
   "cell_type": "code",
   "execution_count": 1,
   "metadata": {
    "collapsed": true
   },
   "outputs": [],
   "source": [
    "import pandas as pd\n",
    "import yaml\n",
    "\n",
    "from bokeh.layouts import column\n",
    "from bokeh.models import ColumnDataSource, Slider\n",
    "from bokeh.plotting import figure\n",
    "from bokeh.themes import Theme\n",
    "from bokeh.io import show"
   ]
  },
  {
   "cell_type": "code",
   "execution_count": 2,
   "metadata": {
    "collapsed": true
   },
   "outputs": [],
   "source": [
    "def modify_doc(doc):\n",
    "    data_url = \"http://www.neracoos.org/erddap/tabledap/B01_sbe37_all.csvp?time,temperature&depth=1&temperature_qc=0&time>=2016-02-15&time<=2017-03-22\"\n",
    "    df = pd.read_csv(data_url, parse_dates=True, index_col=0)\n",
    "    df = df.rename(columns={'temperature (celsius)': 'temperature'})\n",
    "    df.index.name = 'time'\n",
    "\n",
    "    source = ColumnDataSource(data=df)\n",
    "\n",
    "    plot = figure(x_axis_type='datetime', y_range=(0, 25),\n",
    "                  y_axis_label='Temperature (Celsius)',\n",
    "                  title=\"Sea Surface Temperature at 43.18, -70.43\")\n",
    "    plot.line('time', 'temperature', source=source)\n",
    "\n",
    "    def callback(attr, old, new):\n",
    "        if new == 0:\n",
    "            data = df\n",
    "        else:\n",
    "            data = df.rolling('{0}D'.format(new)).mean()\n",
    "        source.data = ColumnDataSource(data=data).data\n",
    "\n",
    "    slider = Slider(start=0, end=30, value=0, step=1, title=\"Smoothing by N Days\")\n",
    "    slider.on_change('value', callback)\n",
    "\n",
    "    doc.add_root(column(slider, plot))\n",
    "\n",
    "    doc.theme = Theme(json=yaml.load(\"\"\"\n",
    "        attrs:\n",
    "            Figure:\n",
    "                background_fill_color: \"#DDDDDD\"\n",
    "                outline_line_color: white\n",
    "                toolbar_location: above\n",
    "                height: 500\n",
    "                width: 800\n",
    "            Grid:\n",
    "                grid_line_dash: [6, 4]\n",
    "                grid_line_color: white\n",
    "    \"\"\"))"
   ]
  },
  {
   "cell_type": "code",
   "execution_count": 3,
   "metadata": {
    "collapsed": true
   },
   "outputs": [],
   "source": [
    "from bokeh.application.handlers import FunctionHandler\n",
    "from bokeh.application import Application\n",
    "\n",
    "handler = FunctionHandler(modify_doc)\n",
    "app = Application(handler)"
   ]
  },
  {
   "cell_type": "code",
   "execution_count": 4,
   "metadata": {},
   "outputs": [
    {
     "data": {
      "text/html": [
       "<script type='text/javascript'>\n",
       "\n",
       "var target = document.getElementById('notebook-container');\n",
       "\n",
       "var observer = new MutationObserver(function(mutations) {\n",
       "\n",
       "   for (var i = 0; i < mutations.length; i++) {\n",
       "      for (var j=0; j < mutations[i].removedNodes.length; j++) {\n",
       "        for (var k=0; k < mutations[i].removedNodes[j].childNodes.length; k++)\n",
       "          var bokeh_selector = $(mutations[i].removedNodes[j].childNodes[k]).find(\".bokeh_class\");\n",
       "          if (bokeh_selector) {\n",
       "            if (bokeh_selector.length > 0) {\n",
       "               var destroyed_id = bokeh_selector[0].id;\n",
       "                \n",
       "var cmd = \"from bokeh import io; io._destroy_server('<%= destroyed_id %>')\";\n",
       "var command = _.template(cmd)({destroyed_id:destroyed_id});\n",
       "Jupyter.notebook.kernel.execute(command);\n",
       "\n",
       "            }\n",
       "          }\n",
       "      }\n",
       "   }\n",
       "});\n",
       "observer.observe(target, { childList: true, subtree:true });</script>"
      ]
     },
     "metadata": {},
     "output_type": "display_data"
    },
    {
     "data": {
      "text/html": [
       "<div class='bokeh_class' id='e855309eb5ff4c888840b5473aab21f9'>\n",
       "<script\n",
       "    src=\"http://127.0.0.1:65068/autoload.js?bokeh-autoload-element=46bffea8-c66a-40d9-be33-7dec3422d927&bokeh-app-path=/&bokeh-absolute-url=http://127.0.0.1:65068\"\n",
       "    id=\"46bffea8-c66a-40d9-be33-7dec3422d927\"\n",
       "    data-bokeh-model-id=\"\"\n",
       "    data-bokeh-doc-id=\"\"\n",
       "></script></div>"
      ],
      "text/plain": [
       "<IPython.core.display.HTML object>"
      ]
     },
     "metadata": {},
     "output_type": "display_data"
    }
   ],
   "source": [
    "show(app, notebook_url=\"localhost:8889\")"
   ]
  },
  {
   "cell_type": "code",
   "execution_count": null,
   "metadata": {
    "collapsed": true
   },
   "outputs": [],
   "source": []
  }
 ],
 "metadata": {
  "kernelspec": {
   "display_name": "Python 2",
   "language": "python",
   "name": "python2"
  },
  "language_info": {
   "codemirror_mode": {
    "name": "ipython",
    "version": 2
   },
   "file_extension": ".py",
   "mimetype": "text/x-python",
   "name": "python",
   "nbconvert_exporter": "python",
   "pygments_lexer": "ipython2",
   "version": "2.7.9"
  }
 },
 "nbformat": 4,
 "nbformat_minor": 2
}
